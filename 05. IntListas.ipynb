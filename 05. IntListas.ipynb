{
  "cells": [
    {
      "cell_type": "markdown",
      "metadata": {
        "id": "view-in-github",
        "colab_type": "text"
      },
      "source": [
        "<a href=\"https://colab.research.google.com/github/GTD2101-ACD-AA-EJ23/01-Python-basico-19170736/blob/main/05.%20IntListas.ipynb\" target=\"_parent\"><img src=\"https://colab.research.google.com/assets/colab-badge.svg\" alt=\"Open In Colab\"/></a>"
      ]
    },
    {
      "cell_type": "markdown",
      "metadata": {
        "id": "IHjTKavwowWo"
      },
      "source": [
        "# Introducción a Listas\n",
        "\n",
        "En este JNB se revisará el tema de Introducción a Listas\n",
        "\n",
        "Las listas en python pueden contener distintos tipos de atributos, por ej:\n",
        "  ejemplo_lista = [\"19170736\", \"Juan Pérez\", 19, \"ISC\"]\n",
        "  ejemplo_lista2 = [True, False, False, True]\n",
        "\n",
        "También se pueden crear listas vacías: \n",
        "  ejemplo_lista_vacia = [] "
      ]
    },
    {
      "cell_type": "code",
      "execution_count": 12,
      "metadata": {
        "id": "O8NoTzxjs2wK",
        "outputId": "00c762f7-d1d0-4b54-833e-e4df3e8e4570",
        "colab": {
          "base_uri": "https://localhost:8080/"
        }
      },
      "outputs": [
        {
          "output_type": "stream",
          "name": "stdout",
          "text": [
            "<class 'list'>\n",
            "['pink', 'black', 'blue', 'green', 19, True]\n"
          ]
        }
      ],
      "source": [
        "flower_list = [\"pink\", \"black\", \"blue\", \"green\", 19, True]\n",
        "\n",
        "print (type(flower_list))\n",
        "print(flower_list)"
      ]
    },
    {
      "cell_type": "code",
      "source": [
        "print(flower_list[3])\n",
        "print(len(flower_list))\n",
        "\n",
        "print(flower_list[-4:1])"
      ],
      "metadata": {
        "id": "Pavw6I1StlFA",
        "outputId": "5c4053e4-ba6d-4839-ead0-1cb713d1c88d",
        "colab": {
          "base_uri": "https://localhost:8080/"
        }
      },
      "execution_count": 13,
      "outputs": [
        {
          "output_type": "stream",
          "name": "stdout",
          "text": [
            "green\n",
            "6\n",
            "[]\n"
          ]
        }
      ]
    },
    {
      "cell_type": "markdown",
      "source": [
        "#Remover datos\n",
        "\n",
        "Remover elementos de una lista"
      ],
      "metadata": {
        "id": "42bp6uM_wuDI"
      }
    },
    {
      "cell_type": "code",
      "source": [
        "flower_list.remove(\"pink\")\n",
        "print(flower_list)"
      ],
      "metadata": {
        "id": "kXJDY-Oqwvr3",
        "outputId": "c682b8fa-27b1-401e-a948-92d474abd7e8",
        "colab": {
          "base_uri": "https://localhost:8080/"
        }
      },
      "execution_count": 14,
      "outputs": [
        {
          "output_type": "stream",
          "name": "stdout",
          "text": [
            "['black', 'blue', 'green', 19, True]\n"
          ]
        }
      ]
    },
    {
      "cell_type": "markdown",
      "source": [
        "#Agregar elementos a una lista"
      ],
      "metadata": {
        "id": "TDokIFLQxAYL"
      }
    },
    {
      "cell_type": "code",
      "source": [
        "flower_list.append(\"snapdragon\")\n",
        "print(flower_list)"
      ],
      "metadata": {
        "id": "0iKJxMm1xFeJ",
        "outputId": "04bc3ae4-a771-481a-c516-ca28a1c22b6e",
        "colab": {
          "base_uri": "https://localhost:8080/"
        }
      },
      "execution_count": 16,
      "outputs": [
        {
          "output_type": "stream",
          "name": "stdout",
          "text": [
            "['black', 'blue', 'green', 19, True, 'snapdragon']\n"
          ]
        }
      ]
    }
  ],
  "metadata": {
    "colab": {
      "provenance": [],
      "toc_visible": true,
      "include_colab_link": true
    },
    "kernelspec": {
      "display_name": "Python 3.10.7 64-bit",
      "language": "python",
      "name": "python3"
    },
    "language_info": {
      "codemirror_mode": {
        "name": "ipython",
        "version": 3
      },
      "file_extension": ".py",
      "mimetype": "text/x-python",
      "name": "python",
      "nbconvert_exporter": "python",
      "pygments_lexer": "ipython3",
      "version": "3.10.7"
    },
    "orig_nbformat": 4,
    "vscode": {
      "interpreter": {
        "hash": "eb4a0ac80907d7f44e1a5e88d3d3381b33e3dbedd3a24d113e876f30a0c46bee"
      }
    }
  },
  "nbformat": 4,
  "nbformat_minor": 0
}